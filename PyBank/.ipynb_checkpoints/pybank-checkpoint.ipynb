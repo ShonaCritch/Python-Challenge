{
 "cells": [
  {
   "cell_type": "code",
   "execution_count": 1,
   "metadata": {},
   "outputs": [],
   "source": [
    "# Dependencies\n",
    "import csv\n",
    "import os\n",
    "\n",
    "# Files to load\n",
    "budget_file = os.path.join(\"Resources\", \"budget_data.csv\")\n",
    "# Specify the file to write to\n",
    "analysis_printed = os.path.join(\"analysis\", \"budget_analysis.txt\")\n"
   ]
  },
  {
   "cell_type": "code",
   "execution_count": 2,
   "metadata": {},
   "outputs": [
    {
     "name": "stdout",
     "output_type": "stream",
     "text": [
      "Financial Analysis\n",
      "----------------------------\n",
      "Total Months: 86\n",
      "Total: $38382578\n",
      "Average  Change: $-2315.12\n",
      "Greatest Increase in Profits: Feb-2012 ($1926159)\n",
      "Greatest Decrease in Profits: Sep-2013 ($-2196167)\n",
      "\n"
     ]
    }
   ],
   "source": [
    "# Create lists to append to and counters\n",
    "#counters\n",
    "months = 0\n",
    "total_net = 0\n",
    "#lists\n",
    "month_changed_list = []\n",
    "net_change_list = []\n",
    "max_increase = [\"\", 0]\n",
    "max_decrease = [\"\", 9999999999999999999]\n",
    "\n",
    "\n",
    "# Read the csv and append to lists and add to counters\n",
    "with open(budget_file) as budget:\n",
    "    reader = csv.reader(budget)\n",
    "\n",
    "    # skip over the first row as header\n",
    "    header = next(reader)\n",
    "\n",
    "    # skip over row one and  and \n",
    "    row_one = next(reader)\n",
    "    # add 1 for mths counter (using add and operator)\n",
    "    months += 1\n",
    "    # add net amount of row one to total (using add and operator)\n",
    "    total_net += int(row_one[1])\n",
    "    # capture the net amount as prev net (to use for calc with next row)\n",
    "    prev_net = int(row_one[1])\n",
    "\n",
    "    #loop through reader (from row 3 down) \n",
    "    for row in reader:\n",
    "\n",
    "        # Add to mth and total net counters\n",
    "        months += 1\n",
    "        total_net += int(row[1])\n",
    "\n",
    "        # Calculate net change, using capture of current row and subtracting previous row capture\n",
    "        net_change = int(row[1]) - prev_net\n",
    "        # Capture current row net as prev net for calc on next row\n",
    "        prev_net = int(row[1])\n",
    "        # Add calculated net change amount to net change list\n",
    "        net_change_list += [net_change]\n",
    "        # Add mth name to mth change list\n",
    "        month_changed_list += [row[0]]\n",
    "\n",
    "        # Check if current net change greater than listed net changes and set as max increase\n",
    "        if net_change > max_increase[1]:\n",
    "            max_increase[0] = row[0]\n",
    "            #\n",
    "            max_increase[1] = net_change\n",
    "\n",
    "        # Calculate the max decrease\n",
    "        if net_change < max_decrease[1]:\n",
    "            max_decrease[0] = row[0]\n",
    "            max_decrease[1] = net_change\n",
    "\n",
    "# Calculate the Average Net Change\n",
    "net_monthly_avg = sum(net_change_list) / len(net_change_list)\n",
    "\n",
    "# Generate Output Summary\n",
    "result = (\n",
    "    f\"Financial Analysis\\n\"\n",
    "    f\"----------------------------\\n\"\n",
    "    f\"Total Months: {months}\\n\"\n",
    "    f\"Total: ${total_net}\\n\"\n",
    "    f\"Average  Change: ${net_monthly_avg:.2f}\\n\"\n",
    "    f\"Greatest Increase in Profits: {max_increase[0]} (${max_increase[1]})\\n\"\n",
    "    f\"Greatest Decrease in Profits: {max_decrease[0]} (${max_decrease[1]})\\n\")\n",
    "\n",
    "# Print result\n",
    "print(result)\n",
    "\n",
    "# Export the results to text file\n",
    "with open(analysis_printed, \"w\") as txt_file:\n",
    "    txt_file.write(result)"
   ]
  }
 ],
 "metadata": {
  "kernelspec": {
   "display_name": "Python [conda env:PythonData] *",
   "language": "python",
   "name": "conda-env-PythonData-py"
  },
  "language_info": {
   "codemirror_mode": {
    "name": "ipython",
    "version": 3
   },
   "file_extension": ".py",
   "mimetype": "text/x-python",
   "name": "python",
   "nbconvert_exporter": "python",
   "pygments_lexer": "ipython3",
   "version": "3.7.1"
  }
 },
 "nbformat": 4,
 "nbformat_minor": 4
}
